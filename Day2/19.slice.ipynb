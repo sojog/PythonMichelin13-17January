{
 "cells": [
  {
   "cell_type": "code",
   "execution_count": 2,
   "metadata": {},
   "outputs": [],
   "source": [
    "collection = [23, 51, 3, 10, 9, 100, 20]"
   ]
  },
  {
   "cell_type": "code",
   "execution_count": 3,
   "metadata": {},
   "outputs": [
    {
     "name": "stdout",
     "output_type": "stream",
     "text": [
      "3\n"
     ]
    }
   ],
   "source": [
    "element = collection[2]\n",
    "print(element)\n"
   ]
  },
  {
   "cell_type": "code",
   "execution_count": 4,
   "metadata": {},
   "outputs": [
    {
     "name": "stdout",
     "output_type": "stream",
     "text": [
      "3\n",
      "10\n"
     ]
    }
   ],
   "source": [
    "elem1 = collection[2]\n",
    "print(elem1)\n",
    "elem2 = collection[3]\n",
    "print(elem2)"
   ]
  },
  {
   "cell_type": "code",
   "execution_count": 6,
   "metadata": {},
   "outputs": [
    {
     "name": "stdout",
     "output_type": "stream",
     "text": [
      "[3, 10, 9, 100] <class 'list'>\n"
     ]
    }
   ],
   "source": [
    "collection = [23, 51, 3, 10, 9, 100, 20]\n",
    "a_slice = collection[2:6]\n",
    "print(a_slice, type(a_slice))\n"
   ]
  },
  {
   "cell_type": "code",
   "execution_count": 7,
   "metadata": {},
   "outputs": [
    {
     "name": "stdout",
     "output_type": "stream",
     "text": [
      "(3, 10, 9, 100) <class 'tuple'>\n"
     ]
    }
   ],
   "source": [
    "collection = (23, 51, 3, 10, 9, 100, 20)\n",
    "a_slice = collection[2:6]\n",
    "print(a_slice, type(a_slice))"
   ]
  },
  {
   "cell_type": "code",
   "execution_count": 8,
   "metadata": {},
   "outputs": [
    {
     "name": "stdout",
     "output_type": "stream",
     "text": [
      "lcom <class 'str'>\n"
     ]
    }
   ],
   "source": [
    "collection = \"welcome to our class\"\n",
    "a_slice = collection[2:6]\n",
    "print(a_slice, type(a_slice))"
   ]
  },
  {
   "cell_type": "code",
   "execution_count": 11,
   "metadata": {},
   "outputs": [
    {
     "name": "stdout",
     "output_type": "stream",
     "text": [
      " to our class <class 'str'>\n"
     ]
    }
   ],
   "source": [
    "collection = \"welcome to our class\"\n",
    "a_slice = collection[7:]\n",
    "print(a_slice, type(a_slice))"
   ]
  },
  {
   "cell_type": "code",
   "execution_count": 12,
   "metadata": {},
   "outputs": [
    {
     "name": "stdout",
     "output_type": "stream",
     "text": [
      " to our class <class 'str'>\n"
     ]
    }
   ],
   "source": [
    "collection = \"welcome to our class\"\n",
    "a_slice = collection[7:100]\n",
    "print(a_slice, type(a_slice))"
   ]
  },
  {
   "cell_type": "code",
   "execution_count": 13,
   "metadata": {},
   "outputs": [
    {
     "name": "stdout",
     "output_type": "stream",
     "text": [
      "welcome <class 'str'>\n"
     ]
    }
   ],
   "source": [
    "collection = \"welcome to our class\"\n",
    "a_slice = collection[0:7]\n",
    "print(a_slice, type(a_slice))"
   ]
  },
  {
   "cell_type": "code",
   "execution_count": 14,
   "metadata": {},
   "outputs": [
    {
     "name": "stdout",
     "output_type": "stream",
     "text": [
      "welcome <class 'str'>\n"
     ]
    }
   ],
   "source": [
    "collection = \"welcome to our class\"\n",
    "a_slice = collection[:7]\n",
    "print(a_slice, type(a_slice))"
   ]
  },
  {
   "cell_type": "code",
   "execution_count": 15,
   "metadata": {},
   "outputs": [
    {
     "name": "stdout",
     "output_type": "stream",
     "text": [
      "welcome to our class <class 'str'>\n"
     ]
    }
   ],
   "source": [
    "collection = \"welcome to our class\"\n",
    "a_slice = collection[:]\n",
    "print(a_slice, type(a_slice))"
   ]
  },
  {
   "cell_type": "code",
   "execution_count": 16,
   "metadata": {},
   "outputs": [
    {
     "name": "stdout",
     "output_type": "stream",
     "text": [
      "wloe <class 'str'>\n"
     ]
    }
   ],
   "source": [
    "collection = \"welcome to our class\"\n",
    "a_slice = collection[0:7:2]\n",
    "print(a_slice, type(a_slice))"
   ]
  },
  {
   "cell_type": "code",
   "execution_count": 17,
   "metadata": {},
   "outputs": [
    {
     "name": "stdout",
     "output_type": "stream",
     "text": [
      "wce <class 'str'>\n"
     ]
    }
   ],
   "source": [
    "collection = \"welcome to our class\"\n",
    "a_slice = collection[0:7:3]\n",
    "print(a_slice, type(a_slice))"
   ]
  },
  {
   "cell_type": "code",
   "execution_count": 18,
   "metadata": {},
   "outputs": [
    {
     "name": "stdout",
     "output_type": "stream",
     "text": [
      " <class 'str'>\n"
     ]
    }
   ],
   "source": [
    "collection = \"welcome to our class\"\n",
    "a_slice = collection[0:7:-1]\n",
    "print(a_slice, type(a_slice))"
   ]
  },
  {
   "cell_type": "code",
   "execution_count": 19,
   "metadata": {},
   "outputs": [
    {
     "name": "stdout",
     "output_type": "stream",
     "text": [
      " emocle <class 'str'>\n"
     ]
    }
   ],
   "source": [
    "collection = \"welcome to our class\"\n",
    "a_slice = collection[7:0:-1]\n",
    "print(a_slice, type(a_slice))"
   ]
  },
  {
   "cell_type": "code",
   "execution_count": 20,
   "metadata": {},
   "outputs": [
    {
     "name": "stdout",
     "output_type": "stream",
     "text": [
      "ssalc ruo ot emoclew <class 'str'>\n"
     ]
    }
   ],
   "source": [
    "collection = \"welcome to our class\"\n",
    "a_slice = collection[::-1]\n",
    "print(a_slice, type(a_slice))"
   ]
  },
  {
   "cell_type": "code",
   "execution_count": 21,
   "metadata": {},
   "outputs": [
    {
     "name": "stdout",
     "output_type": "stream",
     "text": [
      "['white', 'blue', 'red'] <class 'list'>\n"
     ]
    }
   ],
   "source": [
    "collection = [\"red\", \"blue\", \"white\"]\n",
    "a_slice = collection[::-1]\n",
    "print(a_slice, type(a_slice))"
   ]
  }
 ],
 "metadata": {
  "kernelspec": {
   "display_name": "Python 3",
   "language": "python",
   "name": "python3"
  },
  "language_info": {
   "codemirror_mode": {
    "name": "ipython",
    "version": 3
   },
   "file_extension": ".py",
   "mimetype": "text/x-python",
   "name": "python",
   "nbconvert_exporter": "python",
   "pygments_lexer": "ipython3",
   "version": "3.12.0"
  }
 },
 "nbformat": 4,
 "nbformat_minor": 2
}

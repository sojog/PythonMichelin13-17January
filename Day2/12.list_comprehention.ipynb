{
 "cells": [
  {
   "cell_type": "code",
   "execution_count": 1,
   "metadata": {},
   "outputs": [
    {
     "name": "stdout",
     "output_type": "stream",
     "text": [
      "Odd numbers: [3, 7, 1, 9, 5]\n",
      "Even numbers: [2, 4, 12]\n"
     ]
    }
   ],
   "source": [
    "\n",
    "numbers =  [3, 7, 1, 9, 2, 4, 5, 12]\n",
    "\n",
    "odd = []\n",
    "even = []\n",
    "\n",
    "for i in numbers:\n",
    "    if i % 2 == 0 :\n",
    "        even.append(i)\n",
    "    else:\n",
    "        odd.append(i)\n",
    "\n",
    "print(\"Odd numbers:\", odd)\n",
    "print(\"Even numbers:\", even)"
   ]
  },
  {
   "cell_type": "code",
   "execution_count": 5,
   "metadata": {},
   "outputs": [
    {
     "name": "stdout",
     "output_type": "stream",
     "text": [
      "Odd numbers: [3, 7, 1, 9, 5]\n",
      "Even numbers: [2, 4, 12]\n"
     ]
    }
   ],
   "source": [
    "\n",
    "numbers =  [3, 7, 1, 9, 2, 4, 5, 12]\n",
    "\n",
    "odd = [i for i in numbers if i % 2 == 1]\n",
    "even = [i for i in numbers if i % 2 == 0]\n",
    "\n",
    "print(\"Odd numbers:\", odd)\n",
    "print(\"Even numbers:\", even)"
   ]
  }
 ],
 "metadata": {
  "kernelspec": {
   "display_name": "Python 3",
   "language": "python",
   "name": "python3"
  },
  "language_info": {
   "codemirror_mode": {
    "name": "ipython",
    "version": 3
   },
   "file_extension": ".py",
   "mimetype": "text/x-python",
   "name": "python",
   "nbconvert_exporter": "python",
   "pygments_lexer": "ipython3",
   "version": "3.12.0"
  }
 },
 "nbformat": 4,
 "nbformat_minor": 2
}

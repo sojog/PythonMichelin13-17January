{
 "cells": [
  {
   "cell_type": "markdown",
   "metadata": {},
   "source": [
    "# https://dontpad.com/csvmichelin"
   ]
  },
  {
   "cell_type": "code",
   "execution_count": 1,
   "metadata": {},
   "outputs": [],
   "source": [
    "import csv"
   ]
  },
  {
   "cell_type": "code",
   "execution_count": 6,
   "metadata": {},
   "outputs": [
    {
     "name": "stdout",
     "output_type": "stream",
     "text": [
      "<class 'str'> id,country,team,trophies\n",
      "0,England,Liverpool,6\n",
      "1,S\n"
     ]
    }
   ],
   "source": [
    "with open(\"exemple.csv\", \"r\") as file_reader:\n",
    "    text_inside = file_reader.read()\n",
    "    print(type(text_inside), text_inside[:50])"
   ]
  },
  {
   "cell_type": "code",
   "execution_count": 7,
   "metadata": {},
   "outputs": [
    {
     "name": "stdout",
     "output_type": "stream",
     "text": [
      "['id,country,team,trophies\\n', '0,England,Liverpool,6\\n', '1,Spain,Barcelona,5\\n', '2,England,Man United,3\\n', '3,Italy,Inter,3\\n', '4,England,Chelsea,2\\n', '5,England,Chelsea,2\\n', '6,England,Nottm Forest,2\\n', '7,Portugal,Benfica,2\\n', '8,Italy,Juventus,2\\n', '9,Portugal,FC Porto,2\\n', '10,England,Man City,1\\n', '11,Germany,Dortmund,1\\n', '12,Netherlands,Feyenoord,1\\n', '13,France,Marseille,1\\n', '14,England,Aston Villa,1\\n', '15,Germany,Hamburg,1\\n', '16,Serbia,Crvena zvezda,1\\n', '17,Romania,FCSB,1\\n', '18,Netherlands,PSV,1\\n', '19,Scotland,Celtic,1\\n']\n"
     ]
    }
   ],
   "source": [
    "with open(\"exemple.csv\", \"r\") as file_reader:\n",
    "    text_lines = file_reader.readlines()\n",
    "    print(text_lines)"
   ]
  },
  {
   "cell_type": "code",
   "execution_count": 8,
   "metadata": {},
   "outputs": [
    {
     "name": "stdout",
     "output_type": "stream",
     "text": [
      "['id', 'country', 'team', 'trophies'] <class 'list'>\n",
      "['0', 'England', 'Liverpool', '6'] <class 'list'>\n",
      "['1', 'Spain', 'Barcelona', '5'] <class 'list'>\n",
      "['2', 'England', 'Man United', '3'] <class 'list'>\n",
      "['3', 'Italy', 'Inter', '3'] <class 'list'>\n",
      "['4', 'England', 'Chelsea', '2'] <class 'list'>\n",
      "['5', 'England', 'Chelsea', '2'] <class 'list'>\n",
      "['6', 'England', 'Nottm Forest', '2'] <class 'list'>\n",
      "['7', 'Portugal', 'Benfica', '2'] <class 'list'>\n",
      "['8', 'Italy', 'Juventus', '2'] <class 'list'>\n",
      "['9', 'Portugal', 'FC Porto', '2'] <class 'list'>\n",
      "['10', 'England', 'Man City', '1'] <class 'list'>\n",
      "['11', 'Germany', 'Dortmund', '1'] <class 'list'>\n",
      "['12', 'Netherlands', 'Feyenoord', '1'] <class 'list'>\n",
      "['13', 'France', 'Marseille', '1'] <class 'list'>\n",
      "['14', 'England', 'Aston Villa', '1'] <class 'list'>\n",
      "['15', 'Germany', 'Hamburg', '1'] <class 'list'>\n",
      "['16', 'Serbia', 'Crvena zvezda', '1'] <class 'list'>\n",
      "['17', 'Romania', 'FCSB', '1'] <class 'list'>\n",
      "['18', 'Netherlands', 'PSV', '1'] <class 'list'>\n",
      "['19', 'Scotland', 'Celtic', '1'] <class 'list'>\n"
     ]
    }
   ],
   "source": [
    "with open(\"exemple.csv\", \"r\") as file_reader:\n",
    "    csv_reader_object = csv.reader(file_reader)\n",
    "    for row in csv_reader_object:\n",
    "        print(row, type(row))"
   ]
  },
  {
   "cell_type": "code",
   "execution_count": 9,
   "metadata": {},
   "outputs": [
    {
     "name": "stdout",
     "output_type": "stream",
     "text": [
      "[['id', 'country', 'team', 'trophies'], ['0', 'England', 'Liverpool', '6'], ['1', 'Spain', 'Barcelona', '5'], ['2', 'England', 'Man United', '3'], ['3', 'Italy', 'Inter', '3'], ['4', 'England', 'Chelsea', '2'], ['5', 'England', 'Chelsea', '2'], ['6', 'England', 'Nottm Forest', '2'], ['7', 'Portugal', 'Benfica', '2'], ['8', 'Italy', 'Juventus', '2'], ['9', 'Portugal', 'FC Porto', '2'], ['10', 'England', 'Man City', '1'], ['11', 'Germany', 'Dortmund', '1'], ['12', 'Netherlands', 'Feyenoord', '1'], ['13', 'France', 'Marseille', '1'], ['14', 'England', 'Aston Villa', '1'], ['15', 'Germany', 'Hamburg', '1'], ['16', 'Serbia', 'Crvena zvezda', '1'], ['17', 'Romania', 'FCSB', '1'], ['18', 'Netherlands', 'PSV', '1'], ['19', 'Scotland', 'Celtic', '1']]\n"
     ]
    }
   ],
   "source": [
    "with open(\"exemple.csv\", \"r\") as file_reader:\n",
    "    csv_reader_object = csv.reader(file_reader)\n",
    "    data = [row for row in csv_reader_object]\n",
    "    print(data)\n",
    "        "
   ]
  },
  {
   "cell_type": "code",
   "execution_count": 10,
   "metadata": {},
   "outputs": [
    {
     "name": "stdout",
     "output_type": "stream",
     "text": [
      "[['id', 'country', 'team', 'trophies'], ['0', 'Spain', 'Real Madrid', '15'], ['0', 'England', 'Liverpool', '6'], ['1', 'Spain', 'Barcelona', '5'], ['2', 'England', 'Man United', '3'], ['3', 'Italy', 'Inter', '3'], ['4', 'England', 'Chelsea', '2'], ['5', 'England', 'Chelsea', '2'], ['6', 'England', 'Nottm Forest', '2'], ['7', 'Portugal', 'Benfica', '2'], ['8', 'Italy', 'Juventus', '2'], ['9', 'Portugal', 'FC Porto', '2'], ['10', 'England', 'Man City', '1'], ['11', 'Germany', 'Dortmund', '1'], ['12', 'Netherlands', 'Feyenoord', '1'], ['13', 'France', 'Marseille', '1'], ['14', 'England', 'Aston Villa', '1'], ['15', 'Germany', 'Hamburg', '1'], ['16', 'Serbia', 'Crvena zvezda', '1'], ['17', 'Romania', 'FCSB', '1'], ['18', 'Netherlands', 'PSV', '1'], ['19', 'Scotland', 'Celtic', '1']]\n"
     ]
    }
   ],
   "source": [
    "new_entry = ['0', 'Spain', 'Real Madrid', '15']\n",
    "data.insert(1, new_entry)\n",
    "print(data)"
   ]
  },
  {
   "cell_type": "code",
   "execution_count": 13,
   "metadata": {},
   "outputs": [
    {
     "name": "stdout",
     "output_type": "stream",
     "text": [
      "[['id', 'country', 'team', 'trophies'], ['0', 'Spain', 'Real Madrid', '15'], ['1', 'England', 'Liverpool', '6'], ['1', 'Spain', 'Barcelona', '5'], ['2', 'England', 'Man United', '3'], ['3', 'Italy', 'Inter', '3'], ['4', 'England', 'Chelsea', '2'], ['5', 'England', 'Chelsea', '2'], ['6', 'England', 'Nottm Forest', '2'], ['7', 'Portugal', 'Benfica', '2'], ['8', 'Italy', 'Juventus', '2'], ['9', 'Portugal', 'FC Porto', '2'], ['10', 'England', 'Man City', '1'], ['11', 'Germany', 'Dortmund', '1'], ['12', 'Netherlands', 'Feyenoord', '1'], ['13', 'France', 'Marseille', '1'], ['14', 'England', 'Aston Villa', '1'], ['15', 'Germany', 'Hamburg', '1'], ['16', 'Serbia', 'Crvena zvezda', '1'], ['17', 'Romania', 'FCSB', '1'], ['18', 'Netherlands', 'PSV', '1'], ['19', 'Scotland', 'Celtic', '1']]\n"
     ]
    }
   ],
   "source": [
    "data[2][0] = '1' # changing the index for Liverpool\n",
    "print(data)"
   ]
  },
  {
   "cell_type": "code",
   "execution_count": 15,
   "metadata": {},
   "outputs": [],
   "source": [
    "with open(\"exemple_edited.csv\", \"w\") as file_writer:\n",
    "    csv_writer_object = csv.writer(file_writer)\n",
    "    csv_writer_object.writerows(data)"
   ]
  },
  {
   "cell_type": "code",
   "execution_count": null,
   "metadata": {},
   "outputs": [],
   "source": []
  }
 ],
 "metadata": {
  "kernelspec": {
   "display_name": "Python 3",
   "language": "python",
   "name": "python3"
  },
  "language_info": {
   "codemirror_mode": {
    "name": "ipython",
    "version": 3
   },
   "file_extension": ".py",
   "mimetype": "text/x-python",
   "name": "python",
   "nbconvert_exporter": "python",
   "pygments_lexer": "ipython3",
   "version": "3.12.0"
  }
 },
 "nbformat": 4,
 "nbformat_minor": 2
}

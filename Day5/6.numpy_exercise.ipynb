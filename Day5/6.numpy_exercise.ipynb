{
  "cells": [
    {
      "cell_type": "code",
      "metadata": {},
      "source": [
        "\n",
        "# %%\n",
        "######### Exercise 1 ################\n",
        "# Create a vector with 10 integer elements, all equal to 0.\n"
      ],
      "outputs": [],
      "execution_count": null
    },
    {
      "cell_type": "code",
      "metadata": {},
      "source": [
        "######### Exercise 2 ################\n",
        "# Create a vector with 10 integer elements, all equal to 1.\n"
      ],
      "outputs": [],
      "execution_count": null
    },
    {
      "cell_type": "code",
      "metadata": {},
      "source": [
        "######### Exercise 3 ################\n",
        "# Create a vector with integer elements from 0 to 9.\n"
      ],
      "outputs": [],
      "execution_count": null
    },
    {
      "cell_type": "code",
      "metadata": {},
      "source": [
        "######### Exercise 4 ################\n",
        "# Create a vector with integer elements from 10 to 29.\n"
      ],
      "outputs": [],
      "execution_count": null
    },
    {
      "cell_type": "code",
      "metadata": {},
      "source": [
        "######### Exercise 5 ################\n",
        "# Create a vector with integer elements from 0 to 9 in reverse order.\n"
      ],
      "outputs": [],
      "execution_count": null
    },
    {
      "cell_type": "code",
      "metadata": {},
      "source": [
        "######### Exercise 6 ################\n",
        "# Create a vector with 10 random elements between 0 and 1.\n"
      ],
      "outputs": [],
      "execution_count": null
    },
    {
      "cell_type": "code",
      "metadata": {},
      "source": [
        "######### Exercise 7 ################\n",
        "# Create a 3x3 matrix with random integer elements between 0 and 9.\n"
      ],
      "outputs": [],
      "execution_count": null
    },
    {
      "cell_type": "code",
      "metadata": {},
      "source": [
        "######### Exercise 8 ################\n",
        "# Create a 5x5 identity matrix.\n"
      ],
      "outputs": [],
      "execution_count": null
    },
    {
      "cell_type": "code",
      "metadata": {},
      "source": [
        "######### Exercise 9 ################\n",
        "# Add two matrices of equal dimensions (for example, 3x3).\n"
      ],
      "outputs": [],
      "execution_count": null
    },
    {
      "cell_type": "code",
      "metadata": {},
      "source": [
        "######### Exercise 10 ################\n",
        "# Multiply two matrices of appropriate dimensions (for example, 2x3 and 3x2).\n"
      ],
      "outputs": [],
      "execution_count": null
    },
    {
      "cell_type": "code",
      "metadata": {},
      "source": [
        "######### Exercise 11 ################\n",
        "# Transpose a matrix (for example, 3x4).\n"
      ],
      "outputs": [],
      "execution_count": null
    },
    {
      "cell_type": "code",
      "metadata": {},
      "source": [
        "######### Exercise 12 ################\n",
        "# Find the maximum value in a vector.\n"
      ],
      "outputs": [],
      "execution_count": null
    },
    {
      "cell_type": "code",
      "metadata": {},
      "source": [
        "######### Exercise 13 ################\n",
        "# Find the index of the maximum value in a vector.\n"
      ],
      "outputs": [],
      "execution_count": null
    },
    {
      "cell_type": "code",
      "metadata": {},
      "source": [
        "######### Exercise 14 ################\n",
        "# Find the arithmetic mean of the values in a matrix.\n"
      ],
      "outputs": [],
      "execution_count": null
    },
    {
      "cell_type": "code",
      "metadata": {},
      "source": [
        "######### Exercise 15 ################\n",
        "# Create a 4x4 matrix with random integer elements between 1 and 20.\n"
      ],
      "outputs": [],
      "execution_count": null
    },
    {
      "cell_type": "code",
      "metadata": {},
      "source": [
        "######### Exercise 16 ################\n",
        "# Create a 6x6 diagonal matrix with diagonal elements equal to 5.\n"
      ],
      "outputs": [],
      "execution_count": null
    },
    {
      "cell_type": "code",
      "metadata": {},
      "source": [
        "######### Exercise 17 ################\n",
        "# Reshape a vector of 12 elements into a 3x4 matrix.\n"
      ],
      "outputs": [],
      "execution_count": null
    },
    {
      "cell_type": "code",
      "metadata": {},
      "source": [
        "######### Exercise 18 ################\n",
        "# Flatten a 3x4 matrix into a 1D array.\n"
      ],
      "outputs": [],
      "execution_count": null
    },
    {
      "cell_type": "code",
      "metadata": {},
      "source": [
        "######### Exercise 19 ################\n",
        "# Create a vector of length 50 with linearly spaced values between 0 and 100.\n"
      ],
      "outputs": [],
      "execution_count": null
    },
    {
      "cell_type": "code",
      "metadata": {},
      "source": [
        "######### Exercise 20 ################\n",
        "# Create a 5x5 matrix filled with a specific value (for example, 7).\n"
      ],
      "outputs": [],
      "execution_count": null
    },
    {
      "cell_type": "code",
      "metadata": {},
      "source": [
        "######### Exercise 21 ################\n",
        "# Create a vector of 15 random integers between 50 and 100, and sort it.\n"
      ],
      "outputs": [],
      "execution_count": null
    },
    {
      "cell_type": "code",
      "metadata": {},
      "source": [
        "######### Exercise 22 ################\n",
        "# Find the standard deviation of the values in a vector.\n"
      ],
      "outputs": [],
      "execution_count": null
    },
    {
      "cell_type": "code",
      "metadata": {},
      "source": [
        "######### Exercise 23 ################\n",
        "# Replace all negative values in a vector with 0.\n"
      ],
      "outputs": [],
      "execution_count": null
    },
    {
      "cell_type": "code",
      "metadata": {},
      "source": [
        "######### Exercise 25 ################\n",
        "# Create a random 4x4 matrix and compute the sum of all its elements.\n"
      ],
      "outputs": [],
      "execution_count": null
    }
  ],
  "metadata": {
    "anaconda-cloud": {},
    "kernelspec": {
      "display_name": "Python 3",
      "language": "python",
      "name": "python3"
    },
    "language_info": {
      "codemirror_mode": {
        "name": "ipython",
        "version": 3
      },
      "file_extension": ".py",
      "mimetype": "text/x-python",
      "name": "python",
      "nbconvert_exporter": "python",
      "pygments_lexer": "ipython3",
      "version": "3.6.1"
    }
  },
  "nbformat": 4,
  "nbformat_minor": 4
}
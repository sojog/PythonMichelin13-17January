{
 "cells": [
  {
   "cell_type": "code",
   "execution_count": 4,
   "metadata": {},
   "outputs": [
    {
     "name": "stdout",
     "output_type": "stream",
     "text": [
      "{'coffee': 31, 'tea': 33, 'water': 11, 'milk': 301}\n"
     ]
    }
   ],
   "source": [
    "dictionary = {\n",
    "    \"coffee\":30, \"tea\":32, \"water\":10, \"milk\":300\n",
    "}\n",
    "\n",
    "new_dictionary = {}\n",
    "for i in dictionary:\n",
    "    new_dictionary[i] = dictionary[i] + 1\n",
    "print(new_dictionary)"
   ]
  },
  {
   "cell_type": "code",
   "execution_count": 6,
   "metadata": {},
   "outputs": [
    {
     "name": "stdout",
     "output_type": "stream",
     "text": [
      "{'coffee': 31, 'tea': 33, 'water': 11, 'milk': 301}\n"
     ]
    }
   ],
   "source": [
    "dictionary = {\n",
    "    \"coffee\":30, \"tea\":32, \"water\":10, \"milk\":300\n",
    "}\n",
    "\n",
    "new_dictionary = { i: dictionary[i] + 1 for i in dictionary}\n",
    "print(new_dictionary)"
   ]
  }
 ],
 "metadata": {
  "kernelspec": {
   "display_name": "Python 3",
   "language": "python",
   "name": "python3"
  },
  "language_info": {
   "codemirror_mode": {
    "name": "ipython",
    "version": 3
   },
   "file_extension": ".py",
   "mimetype": "text/x-python",
   "name": "python",
   "nbconvert_exporter": "python",
   "pygments_lexer": "ipython3",
   "version": "3.12.0"
  }
 },
 "nbformat": 4,
 "nbformat_minor": 2
}

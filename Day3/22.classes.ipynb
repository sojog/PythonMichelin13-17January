{
 "cells": [
  {
   "cell_type": "code",
   "execution_count": 1,
   "metadata": {},
   "outputs": [
    {
     "data": {
      "text/plain": [
       "<__main__.Planet at 0x1193b9eb0>"
      ]
     },
     "execution_count": 1,
     "metadata": {},
     "output_type": "execute_result"
    }
   ],
   "source": [
    "# defining the class\n",
    "class Planet:\n",
    "    pass\n",
    "\n",
    "# creating the object\n",
    "earth = Planet()\n",
    "earth"
   ]
  },
  {
   "cell_type": "code",
   "execution_count": 2,
   "metadata": {},
   "outputs": [
    {
     "name": "stdout",
     "output_type": "stream",
     "text": [
      "yeee\n"
     ]
    }
   ],
   "source": [
    "# defining the class\n",
    "class Planet:\n",
    "    def spin(self):\n",
    "        print(\"yeee\")\n",
    "\n",
    "# creating the object\n",
    "earth = Planet()\n",
    "earth.spin()"
   ]
  },
  {
   "cell_type": "code",
   "execution_count": 4,
   "metadata": {},
   "outputs": [],
   "source": [
    "# defining the class\n",
    "class Planet:\n",
    "    def spin(self):\n",
    "        print(\"yeee\")\n",
    "\n",
    "# creating the object\n",
    "earth = Planet()\n",
    "# spin() - calling spin withouth the object is not working"
   ]
  },
  {
   "cell_type": "code",
   "execution_count": 6,
   "metadata": {},
   "outputs": [
    {
     "name": "stdout",
     "output_type": "stream",
     "text": [
      "rrrrr\n"
     ]
    }
   ],
   "source": [
    "# defining the class\n",
    "class Planet:\n",
    "    ## functions inside classes are called methods\n",
    "    def spin(self):\n",
    "        print(\"yeee\")\n",
    "    \n",
    "    def rotate(self, count):\n",
    "        print(\"r\" * count)\n",
    "\n",
    "# creating the object\n",
    "earth = Planet()\n",
    "earth.rotate(5)\n",
    "# spin() - calling spin withouth the object is not working"
   ]
  },
  {
   "cell_type": "code",
   "execution_count": 7,
   "metadata": {},
   "outputs": [
    {
     "name": "stdout",
     "output_type": "stream",
     "text": [
      "rrrrr\n"
     ]
    }
   ],
   "source": [
    "# defining the class\n",
    "class Planet:\n",
    "    def __init__(self, planet_name):\n",
    "        # planet_name -> received parameter\n",
    "        # self.name -> saved inside the object parameter\n",
    "        self.name = planet_name\n",
    "\n",
    "\n",
    "    ## functions inside classes are called methods\n",
    "    def spin(self):\n",
    "        print(\"yeee\")\n",
    "    \n",
    "    def rotate(self, count):\n",
    "        print(\"r\" * count)\n",
    "\n",
    "# creating the object\n",
    "earth = Planet(\"Earth\")\n",
    "earth.rotate(5)\n",
    "# spin() - calling spin withouth the object is not working"
   ]
  },
  {
   "cell_type": "code",
   "execution_count": 8,
   "metadata": {},
   "outputs": [
    {
     "name": "stdout",
     "output_type": "stream",
     "text": [
      "Planet Earth\n",
      "rrrrr\n"
     ]
    }
   ],
   "source": [
    "# defining the class\n",
    "class Planet:\n",
    "    def __init__(self, planet_name):\n",
    "        # planet_name -> received parameter\n",
    "        # self.name -> saved inside the object parameter\n",
    "        self.name = planet_name\n",
    "\n",
    "    def __str__(self):\n",
    "        return f\"Planet {self.name}\"\n",
    "\n",
    "    ## functions inside classes are called methods\n",
    "    def spin(self):\n",
    "        print(\"yeee\")\n",
    "    \n",
    "    def rotate(self, count):\n",
    "        print(\"r\" * count)\n",
    "\n",
    "# creating the object\n",
    "earth = Planet(\"Earth\")\n",
    "print(earth)\n",
    "earth.rotate(5)\n"
   ]
  },
  {
   "cell_type": "code",
   "execution_count": null,
   "metadata": {},
   "outputs": [],
   "source": []
  }
 ],
 "metadata": {
  "kernelspec": {
   "display_name": "Python 3",
   "language": "python",
   "name": "python3"
  },
  "language_info": {
   "codemirror_mode": {
    "name": "ipython",
    "version": 3
   },
   "file_extension": ".py",
   "mimetype": "text/x-python",
   "name": "python",
   "nbconvert_exporter": "python",
   "pygments_lexer": "ipython3",
   "version": "3.12.0"
  }
 },
 "nbformat": 4,
 "nbformat_minor": 2
}

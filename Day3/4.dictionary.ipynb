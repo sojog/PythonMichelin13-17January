{
 "cells": [
  {
   "cell_type": "code",
   "execution_count": 2,
   "metadata": {},
   "outputs": [
    {
     "name": "stdout",
     "output_type": "stream",
     "text": [
      "<class 'dict'>\n"
     ]
    }
   ],
   "source": [
    "d = { }\n",
    "print(type(d))"
   ]
  },
  {
   "cell_type": "code",
   "execution_count": 4,
   "metadata": {},
   "outputs": [
    {
     "name": "stdout",
     "output_type": "stream",
     "text": [
      "<class 'list'> ['white', 'blue', 'green', 'black']\n"
     ]
    }
   ],
   "source": [
    "l = [\"white\", \"blue\", \"green\", \"black\"]\n",
    "print(type(l), l)"
   ]
  },
  {
   "cell_type": "code",
   "execution_count": 5,
   "metadata": {},
   "outputs": [
    {
     "data": {
      "text/plain": [
       "('green', 'green')"
      ]
     },
     "execution_count": 5,
     "metadata": {},
     "output_type": "execute_result"
    }
   ],
   "source": [
    "l[2], l[-2]"
   ]
  },
  {
   "cell_type": "code",
   "execution_count": 19,
   "metadata": {},
   "outputs": [
    {
     "name": "stdout",
     "output_type": "stream",
     "text": [
      "{'k1': 'white', 'k2': 'blue', 'k3': 'green', 'k4': 'black'}\n"
     ]
    }
   ],
   "source": [
    "d = { \"k1\": \"white\", \"k2\": \"blue\", \"k3\": \"green\", \"k4\": \"black\"}\n",
    "print(d)"
   ]
  },
  {
   "cell_type": "code",
   "execution_count": 8,
   "metadata": {},
   "outputs": [
    {
     "name": "stdout",
     "output_type": "stream",
     "text": [
      "4\n"
     ]
    }
   ],
   "source": [
    "d = { \"k1\": \"white\", \"k2\": \"blue\", \"k3\": \"green\", \"k4\": \"black\"}\n",
    "print(len(d))"
   ]
  },
  {
   "cell_type": "code",
   "execution_count": 10,
   "metadata": {},
   "outputs": [
    {
     "data": {
      "text/plain": [
       "'green'"
      ]
     },
     "execution_count": 10,
     "metadata": {},
     "output_type": "execute_result"
    }
   ],
   "source": [
    "d = { \"k1\": \"white\", \"k2\": \"blue\", \"k3\": \"green\", \"k4\": \"black\"}\n",
    "d[\"k3\"]"
   ]
  },
  {
   "cell_type": "code",
   "execution_count": 13,
   "metadata": {},
   "outputs": [],
   "source": [
    "d = { \"k1\": \"white\", \"k2\": \"blue\", \"k3\": \"green\", \"k4\": \"black\"}\n",
    "#d[3] # not working"
   ]
  },
  {
   "cell_type": "code",
   "execution_count": 16,
   "metadata": {},
   "outputs": [
    {
     "name": "stdout",
     "output_type": "stream",
     "text": [
      "k1\n",
      "k2\n",
      "k3\n",
      "k4\n"
     ]
    }
   ],
   "source": [
    "d = { \"k1\": \"white\", \"k2\": \"blue\", \"k3\": \"green\", \"k4\": \"black\"}\n",
    "for i in d:\n",
    "    print(i)"
   ]
  },
  {
   "cell_type": "code",
   "execution_count": 20,
   "metadata": {},
   "outputs": [
    {
     "name": "stdout",
     "output_type": "stream",
     "text": [
      "white\n",
      "blue\n",
      "green\n",
      "black\n"
     ]
    }
   ],
   "source": [
    "d = { \"k1\": \"white\", \"k2\": \"blue\", \"k3\": \"green\", \"k4\": \"black\"}\n",
    "for i in d:\n",
    "    print( d[i])"
   ]
  },
  {
   "cell_type": "code",
   "execution_count": 22,
   "metadata": {},
   "outputs": [
    {
     "data": {
      "text/plain": [
       "'black'"
      ]
     },
     "execution_count": 22,
     "metadata": {},
     "output_type": "execute_result"
    }
   ],
   "source": [
    "d = { \"k1\": \"white\", \"k2\": \"blue\", \"k3\": \"green\", \"k4\": \"black\"}\n",
    "d[\"k4\"]"
   ]
  },
  {
   "cell_type": "code",
   "execution_count": 24,
   "metadata": {},
   "outputs": [
    {
     "data": {
      "text/plain": [
       "'white'"
      ]
     },
     "execution_count": 24,
     "metadata": {},
     "output_type": "execute_result"
    }
   ],
   "source": [
    "d = { \"snow\": \"white\", \"sky\": \"blue\", \"grass\": \"green\", \"soul\": \"black\"}\n",
    "d[\"snow\"]"
   ]
  },
  {
   "cell_type": "code",
   "execution_count": 27,
   "metadata": {},
   "outputs": [
    {
     "name": "stdout",
     "output_type": "stream",
     "text": [
      "{'snow': 'red', 'sky': 'blue', 'grass': 'green', 'soul': 'black'}\n"
     ]
    }
   ],
   "source": [
    "d = { \"snow\": \"white\", \"sky\": \"blue\", \"grass\": \"green\", \"soul\": \"black\"}\n",
    "## Editing a value\n",
    "d[\"snow\"] = \"red\"\n",
    "print(d)"
   ]
  },
  {
   "cell_type": "code",
   "execution_count": 29,
   "metadata": {},
   "outputs": [
    {
     "name": "stdout",
     "output_type": "stream",
     "text": [
      "{'snow': 'white', 'sky': 'blue', 'grass': 'green', 'soul': 'black', 'dress': 'pink'}\n"
     ]
    }
   ],
   "source": [
    "d = { \"snow\": \"white\", \"sky\": \"blue\", \"grass\": \"green\", \"soul\": \"black\"}\n",
    "## Inserting a value\n",
    "d[\"dress\"] = \"pink\"\n",
    "print(d)"
   ]
  },
  {
   "cell_type": "code",
   "execution_count": 31,
   "metadata": {},
   "outputs": [
    {
     "name": "stdout",
     "output_type": "stream",
     "text": [
      "{'snow': 'white', 'sky': 'gray', 'grass': 'green', 'soul': 'black'}\n"
     ]
    }
   ],
   "source": [
    "d = { \"snow\": \"white\", \"sky\": \"blue\", \"grass\": \"green\", \"soul\": \"black\", \"sky\":\"gray\"}\n",
    "# The keys must be unique\n",
    "print(d)"
   ]
  },
  {
   "cell_type": "code",
   "execution_count": 32,
   "metadata": {},
   "outputs": [
    {
     "name": "stdout",
     "output_type": "stream",
     "text": [
      "{'snow': 'white', 'sky': 'blue', 'grass': 'green', 'soul': 'black'}\n"
     ]
    }
   ],
   "source": [
    "d = { \"snow\": \"white\", \"sky\": \"gray\", \"grass\": \"green\", \"soul\": \"black\", \"sky\":\"blue\"}\n",
    "# The keys must be unique\n",
    "print(d)"
   ]
  },
  {
   "cell_type": "code",
   "execution_count": 34,
   "metadata": {},
   "outputs": [
    {
     "name": "stdout",
     "output_type": "stream",
     "text": [
      "{'snow': 'white', 'sky': 'blue', 'grass': 'green', 'soul': 'black', 'shirt': 'blue'}\n"
     ]
    }
   ],
   "source": [
    "d = { \"snow\": \"white\", \"sky\": \"blue\", \"grass\": \"green\", \"soul\": \"black\", \"shirt\":\"blue\"}\n",
    "# The values can repeate\n",
    "print(d)"
   ]
  },
  {
   "cell_type": "code",
   "execution_count": 37,
   "metadata": {},
   "outputs": [
    {
     "name": "stdout",
     "output_type": "stream",
     "text": [
      "{'snow': 'white', 'sky': 'blue', 'grass': 'green', 'soul': 'black'}\n",
      "snow white\n",
      "sky blue\n",
      "grass green\n",
      "soul black\n"
     ]
    }
   ],
   "source": [
    "d = { \"snow\": \"white\", \"sky\": \"gray\", \"grass\": \"green\", \"soul\": \"black\", \"sky\":\"blue\"}\n",
    "print(d)\n",
    "for i in d:\n",
    "    print(i, d[i])"
   ]
  },
  {
   "cell_type": "code",
   "execution_count": 38,
   "metadata": {},
   "outputs": [
    {
     "name": "stdout",
     "output_type": "stream",
     "text": [
      "{'temperature': 200}\n"
     ]
    }
   ],
   "source": [
    "d = {\n",
    "    \"temperature\":200\n",
    "}\n",
    "print(d)"
   ]
  },
  {
   "cell_type": "code",
   "execution_count": 39,
   "metadata": {},
   "outputs": [
    {
     "name": "stdout",
     "output_type": "stream",
     "text": [
      "{'temperature': 200, 'months': ['Jan', 'Feb', 'March']}\n"
     ]
    }
   ],
   "source": [
    "d = {\n",
    "    \"temperature\":200,\n",
    "    \"months\" : [\"Jan\", \"Feb\", \"March\"]\n",
    "}\n",
    "print(d)"
   ]
  },
  {
   "cell_type": "code",
   "execution_count": 41,
   "metadata": {},
   "outputs": [
    {
     "name": "stdout",
     "output_type": "stream",
     "text": [
      "{200: 300}\n"
     ]
    }
   ],
   "source": [
    "d = {\n",
    "    200: 300\n",
    "}\n",
    "print(d)"
   ]
  },
  {
   "cell_type": "code",
   "execution_count": 42,
   "metadata": {},
   "outputs": [
    {
     "name": "stdout",
     "output_type": "stream",
     "text": [
      "300\n"
     ]
    }
   ],
   "source": [
    "d = {\n",
    "    200: 300\n",
    "}\n",
    "print(d[200])\n"
   ]
  },
  {
   "cell_type": "code",
   "execution_count": 48,
   "metadata": {},
   "outputs": [
    {
     "ename": "TypeError",
     "evalue": "unhashable type: 'list'",
     "output_type": "error",
     "traceback": [
      "\u001b[0;31m---------------------------------------------------------------------------\u001b[0m",
      "\u001b[0;31mTypeError\u001b[0m                                 Traceback (most recent call last)",
      "Cell \u001b[0;32mIn[48], line 1\u001b[0m\n\u001b[0;32m----> 1\u001b[0m d \u001b[38;5;241m=\u001b[39m {\n\u001b[1;32m      2\u001b[0m     [\u001b[38;5;124m\"\u001b[39m\u001b[38;5;124mJan\u001b[39m\u001b[38;5;124m\"\u001b[39m, \u001b[38;5;124m\"\u001b[39m\u001b[38;5;124mMarch\u001b[39m\u001b[38;5;124m\"\u001b[39m]: \u001b[38;5;241m300\u001b[39m\n\u001b[1;32m      3\u001b[0m }\n",
      "\u001b[0;31mTypeError\u001b[0m: unhashable type: 'list'"
     ]
    }
   ],
   "source": [
    "d = {\n",
    "    [\"Jan\", \"March\"]: 300\n",
    "}"
   ]
  },
  {
   "cell_type": "code",
   "execution_count": 45,
   "metadata": {},
   "outputs": [
    {
     "name": "stdout",
     "output_type": "stream",
     "text": [
      "{('Jan', 'March'): 300}\n"
     ]
    }
   ],
   "source": [
    "d = {\n",
    "    (\"Jan\", \"March\"): 300\n",
    "}\n",
    "print(d)"
   ]
  },
  {
   "cell_type": "code",
   "execution_count": null,
   "metadata": {},
   "outputs": [],
   "source": []
  }
 ],
 "metadata": {
  "kernelspec": {
   "display_name": "Python 3",
   "language": "python",
   "name": "python3"
  },
  "language_info": {
   "codemirror_mode": {
    "name": "ipython",
    "version": 3
   },
   "file_extension": ".py",
   "mimetype": "text/x-python",
   "name": "python",
   "nbconvert_exporter": "python",
   "pygments_lexer": "ipython3",
   "version": "3.12.0"
  }
 },
 "nbformat": 4,
 "nbformat_minor": 2
}

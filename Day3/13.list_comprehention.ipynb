{
 "cells": [
  {
   "cell_type": "code",
   "execution_count": 1,
   "metadata": {},
   "outputs": [
    {
     "name": "stdout",
     "output_type": "stream",
     "text": [
      "[3, 4, 6, 11, 4, 6]\n"
     ]
    }
   ],
   "source": [
    "numbers = [2, 3, 5, 10, 3, 5]\n",
    "new_list = []\n",
    "for i in numbers:\n",
    "    new_list.append(i + 1)\n",
    "print(new_list)\n"
   ]
  },
  {
   "cell_type": "code",
   "execution_count": 2,
   "metadata": {},
   "outputs": [
    {
     "name": "stdout",
     "output_type": "stream",
     "text": [
      "[3, 4, 6, 11, 4, 6]\n"
     ]
    }
   ],
   "source": [
    "numbers = [2, 3, 5, 10, 3, 5]\n",
    "new_list = [ i + 1 for i in numbers ]\n",
    "print(new_list)"
   ]
  },
  {
   "cell_type": "code",
   "execution_count": 3,
   "metadata": {},
   "outputs": [
    {
     "name": "stdout",
     "output_type": "stream",
     "text": [
      "[4, 4]\n"
     ]
    }
   ],
   "source": [
    "numbers = [2, 3, 5, 10, 3, 5]\n",
    "new_list = []\n",
    "for i in numbers:\n",
    "    if i % 3 == 0:\n",
    "        new_list.append(i + 1)\n",
    "print(new_list)\n"
   ]
  },
  {
   "cell_type": "code",
   "execution_count": 4,
   "metadata": {},
   "outputs": [
    {
     "name": "stdout",
     "output_type": "stream",
     "text": [
      "[4, 4]\n"
     ]
    }
   ],
   "source": [
    "numbers = [2, 3, 5, 10, 3, 5]\n",
    "new_list = [ i + 1 for i in numbers if i % 3 == 0]\n",
    "print(new_list)"
   ]
  }
 ],
 "metadata": {
  "kernelspec": {
   "display_name": "Python 3",
   "language": "python",
   "name": "python3"
  },
  "language_info": {
   "codemirror_mode": {
    "name": "ipython",
    "version": 3
   },
   "file_extension": ".py",
   "mimetype": "text/x-python",
   "name": "python",
   "nbconvert_exporter": "python",
   "pygments_lexer": "ipython3",
   "version": "3.12.0"
  }
 },
 "nbformat": 4,
 "nbformat_minor": 2
}

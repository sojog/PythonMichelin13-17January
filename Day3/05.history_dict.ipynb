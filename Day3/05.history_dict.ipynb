{
 "cells": [
  {
   "cell_type": "code",
   "execution_count": 2,
   "metadata": {},
   "outputs": [
    {
     "name": "stdout",
     "output_type": "stream",
     "text": [
      "{} <class 'dict'>\n"
     ]
    }
   ],
   "source": [
    "sampleDict = {\n",
    "\n",
    "}\n",
    "print(sampleDict, type(sampleDict))"
   ]
  },
  {
   "cell_type": "code",
   "execution_count": 3,
   "metadata": {},
   "outputs": [
    {
     "name": "stdout",
     "output_type": "stream",
     "text": [
      "{'class': {}} <class 'dict'>\n"
     ]
    }
   ],
   "source": [
    "sampleDict = {\n",
    "    \"class\":{\n",
    "        \n",
    "    }\n",
    "}\n",
    "print(sampleDict, type(sampleDict))"
   ]
  },
  {
   "cell_type": "code",
   "execution_count": 4,
   "metadata": {},
   "outputs": [
    {
     "name": "stdout",
     "output_type": "stream",
     "text": [
      "{'class': {'student': {}}} <class 'dict'>\n"
     ]
    }
   ],
   "source": [
    "sampleDict = {\n",
    "    \"class\":{\n",
    "        \"student\" : {\n",
    "            \n",
    "        }\n",
    "    }\n",
    "}\n",
    "print(sampleDict, type(sampleDict))"
   ]
  },
  {
   "cell_type": "code",
   "execution_count": 5,
   "metadata": {},
   "outputs": [
    {
     "name": "stdout",
     "output_type": "stream",
     "text": [
      "{'class': {'student': {'name': 'Mihai', 'marks': {}}}} <class 'dict'>\n"
     ]
    }
   ],
   "source": [
    "sampleDict = {\n",
    "    \"class\":{\n",
    "        \"student\" : {\n",
    "            \"name\":\"Mihai\",\n",
    "            \"marks\" :{\n",
    "                \n",
    "            }\n",
    "        }\n",
    "    }\n",
    "}\n",
    "print(sampleDict, type(sampleDict))"
   ]
  },
  {
   "cell_type": "code",
   "execution_count": 6,
   "metadata": {},
   "outputs": [
    {
     "name": "stdout",
     "output_type": "stream",
     "text": [
      "{'class': {'student': {'name': 'Mihai', 'marks': {'physics': 70, 'history': 80}}}} <class 'dict'>\n"
     ]
    }
   ],
   "source": [
    "sampleDict = {\n",
    "    \"class\":{\n",
    "        \"student\" : {\n",
    "            \"name\":\"Mihai\",\n",
    "            \"marks\" :{\n",
    "                \"physics\":70,\n",
    "                \"history\":80\n",
    "            }\n",
    "        }\n",
    "    }\n",
    "}\n",
    "print(sampleDict, type(sampleDict))"
   ]
  },
  {
   "cell_type": "code",
   "execution_count": 7,
   "metadata": {},
   "outputs": [
    {
     "name": "stdout",
     "output_type": "stream",
     "text": [
      "{'student': {'name': 'Mihai', 'marks': {'physics': 70, 'history': 80}}} <class 'dict'>\n"
     ]
    }
   ],
   "source": [
    "sampleDict = {\n",
    "    \"class\":{\n",
    "        \"student\" : {\n",
    "            \"name\":\"Mihai\",\n",
    "            \"marks\" :{\n",
    "                \"physics\":70,\n",
    "                \"history\":80\n",
    "            }\n",
    "        }\n",
    "    }\n",
    "}\n",
    "print(sampleDict[\"class\"], type(sampleDict))"
   ]
  },
  {
   "cell_type": "code",
   "execution_count": 8,
   "metadata": {},
   "outputs": [
    {
     "name": "stdout",
     "output_type": "stream",
     "text": [
      "{'name': 'Mihai', 'marks': {'physics': 70, 'history': 80}} <class 'dict'>\n"
     ]
    }
   ],
   "source": [
    "sampleDict = {\n",
    "    \"class\":{\n",
    "        \"student\" : {\n",
    "            \"name\":\"Mihai\",\n",
    "            \"marks\" :{\n",
    "                \"physics\":70,\n",
    "                \"history\":80\n",
    "            }\n",
    "        }\n",
    "    }\n",
    "}\n",
    "print(sampleDict[\"class\"]['student'], type(sampleDict))"
   ]
  },
  {
   "cell_type": "code",
   "execution_count": 10,
   "metadata": {},
   "outputs": [
    {
     "name": "stdout",
     "output_type": "stream",
     "text": [
      "{'physics': 70, 'history': 80} <class 'dict'>\n"
     ]
    }
   ],
   "source": [
    "sampleDict = {\n",
    "    \"class\":{\n",
    "        \"student\" : {\n",
    "            \"name\":\"Mihai\",\n",
    "            \"marks\" :{\n",
    "                \"physics\":70,\n",
    "                \"history\":80\n",
    "            }\n",
    "        }\n",
    "    }\n",
    "}\n",
    "print(sampleDict[\"class\"]['student']['marks'], type(sampleDict))"
   ]
  },
  {
   "cell_type": "code",
   "execution_count": 11,
   "metadata": {},
   "outputs": [
    {
     "name": "stdout",
     "output_type": "stream",
     "text": [
      "80 <class 'dict'>\n"
     ]
    }
   ],
   "source": [
    "sampleDict = {\n",
    "    \"class\":{\n",
    "        \"student\" : {\n",
    "            \"name\":\"Mihai\",\n",
    "            \"marks\" :{\n",
    "                \"physics\":70,\n",
    "                \"history\":80\n",
    "            }\n",
    "        }\n",
    "    }\n",
    "}\n",
    "print(sampleDict[\"class\"]['student']['marks']['history'], type(sampleDict))"
   ]
  },
  {
   "cell_type": "code",
   "execution_count": null,
   "metadata": {},
   "outputs": [],
   "source": []
  }
 ],
 "metadata": {
  "kernelspec": {
   "display_name": "Python 3",
   "language": "python",
   "name": "python3"
  },
  "language_info": {
   "codemirror_mode": {
    "name": "ipython",
    "version": 3
   },
   "file_extension": ".py",
   "mimetype": "text/x-python",
   "name": "python",
   "nbconvert_exporter": "python",
   "pygments_lexer": "ipython3",
   "version": "3.12.0"
  }
 },
 "nbformat": 4,
 "nbformat_minor": 2
}

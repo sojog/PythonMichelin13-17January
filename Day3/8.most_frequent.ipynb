{
 "cells": [
  {
   "cell_type": "code",
   "execution_count": 1,
   "metadata": {},
   "outputs": [
    {
     "name": "stdout",
     "output_type": "stream",
     "text": [
      "{101: 1, 202: 2, 303: 1}\n"
     ]
    }
   ],
   "source": [
    "numbers = [ 101, 202, 303, 202]\n",
    "frequencies = { }\n",
    "\n",
    "for no in numbers:\n",
    "    if no in frequencies:\n",
    "        frequencies[no] =  frequencies[no] + 1\n",
    "    else:\n",
    "        frequencies[no] =   1\n",
    "\n",
    "print(frequencies)"
   ]
  },
  {
   "cell_type": "code",
   "execution_count": 2,
   "metadata": {},
   "outputs": [
    {
     "name": "stdout",
     "output_type": "stream",
     "text": [
      "{101: 1, 202: 2, 303: 1}\n"
     ]
    }
   ],
   "source": [
    "numbers = [ 101, 202, 303, 202]\n",
    "frequencies = { }\n",
    "\n",
    "\n",
    "for no in numbers:\n",
    "    frequencies[no] = 0\n",
    "\n",
    "for no in numbers:\n",
    "    frequencies[no] =  frequencies[no] + 1\n",
    "\n",
    "print(frequencies)"
   ]
  },
  {
   "cell_type": "code",
   "execution_count": 4,
   "metadata": {},
   "outputs": [
    {
     "name": "stdout",
     "output_type": "stream",
     "text": [
      "{101: 1, 202: 2, 303: 1}\n"
     ]
    }
   ],
   "source": [
    "numbers = [ 101, 202, 303, 202]\n",
    "frequencies = { }\n",
    "\n",
    "for no in numbers:\n",
    "    frequencies[no] =  frequencies.get(no, 0) + 1\n",
    " \n",
    "\n",
    "print(frequencies)"
   ]
  },
  {
   "cell_type": "code",
   "execution_count": 5,
   "metadata": {},
   "outputs": [
    {
     "data": {
      "text/plain": [
       "4"
      ]
     },
     "execution_count": 5,
     "metadata": {},
     "output_type": "execute_result"
    }
   ],
   "source": [
    "numbers = [ 101, 202, 303, 202]\n",
    "len(numbers)"
   ]
  },
  {
   "cell_type": "code",
   "execution_count": 6,
   "metadata": {},
   "outputs": [
    {
     "data": {
      "text/plain": [
       "2"
      ]
     },
     "execution_count": 6,
     "metadata": {},
     "output_type": "execute_result"
    }
   ],
   "source": [
    "numbers = [ 101, 202, 303, 202]\n",
    "numbers.count(202)"
   ]
  },
  {
   "cell_type": "code",
   "execution_count": 7,
   "metadata": {},
   "outputs": [
    {
     "name": "stdout",
     "output_type": "stream",
     "text": [
      "{101: 1, 202: 2, 303: 1}\n"
     ]
    }
   ],
   "source": [
    "numbers = [ 101, 202, 303, 202]\n",
    "frequencies = { }\n",
    "\n",
    "for no in numbers:\n",
    "    frequencies[no] =  numbers.count(no)\n",
    " \n",
    "\n",
    "print(frequencies)"
   ]
  },
  {
   "cell_type": "code",
   "execution_count": null,
   "metadata": {},
   "outputs": [],
   "source": []
  }
 ],
 "metadata": {
  "kernelspec": {
   "display_name": "Python 3",
   "language": "python",
   "name": "python3"
  },
  "language_info": {
   "codemirror_mode": {
    "name": "ipython",
    "version": 3
   },
   "file_extension": ".py",
   "mimetype": "text/x-python",
   "name": "python",
   "nbconvert_exporter": "python",
   "pygments_lexer": "ipython3",
   "version": "3.12.0"
  }
 },
 "nbformat": 4,
 "nbformat_minor": 2
}

{
 "cells": [
  {
   "cell_type": "code",
   "execution_count": 1,
   "metadata": {},
   "outputs": [],
   "source": [
    "a = 10\n",
    "b = 20 "
   ]
  },
  {
   "cell_type": "code",
   "execution_count": 2,
   "metadata": {},
   "outputs": [
    {
     "name": "stdout",
     "output_type": "stream",
     "text": [
      "a= 20\n",
      "b= 20\n"
     ]
    }
   ],
   "source": [
    "a = 10\n",
    "b = 20\n",
    "a = b\n",
    "b = a\n",
    "\n",
    "print(\"a=\", a)\n",
    "print(\"b=\", b)"
   ]
  },
  {
   "cell_type": "code",
   "execution_count": 3,
   "metadata": {},
   "outputs": [
    {
     "name": "stdout",
     "output_type": "stream",
     "text": [
      "a= 20\n",
      "b= 10\n"
     ]
    }
   ],
   "source": [
    "a = 10\n",
    "b = 20\n",
    "aux = b\n",
    "b = a\n",
    "a = aux\n",
    "\n",
    "print(\"a=\", a)\n",
    "print(\"b=\", b)"
   ]
  },
  {
   "cell_type": "code",
   "execution_count": 4,
   "metadata": {},
   "outputs": [
    {
     "name": "stdout",
     "output_type": "stream",
     "text": [
      "a= 20\n",
      "b= 10\n"
     ]
    }
   ],
   "source": [
    "a = 10\n",
    "b = 20\n",
    "a, b = b, a\n",
    "\n",
    "print(\"a=\", a)\n",
    "print(\"b=\", b)"
   ]
  },
  {
   "cell_type": "markdown",
   "metadata": {},
   "source": [
    "# Number of values to unpacked must be equal to numbers of variables"
   ]
  },
  {
   "cell_type": "code",
   "execution_count": 5,
   "metadata": {},
   "outputs": [
    {
     "ename": "ValueError",
     "evalue": "too many values to unpack (expected 2)",
     "output_type": "error",
     "traceback": [
      "\u001b[0;31m---------------------------------------------------------------------------\u001b[0m",
      "\u001b[0;31mValueError\u001b[0m                                Traceback (most recent call last)",
      "Cell \u001b[0;32mIn[5], line 1\u001b[0m\n\u001b[0;32m----> 1\u001b[0m a, b \u001b[38;5;241m=\u001b[39m \u001b[38;5;241m10\u001b[39m, \u001b[38;5;241m2\u001b[39m, \u001b[38;5;241m3\u001b[39m\n",
      "\u001b[0;31mValueError\u001b[0m: too many values to unpack (expected 2)"
     ]
    }
   ],
   "source": [
    "a, b = 10, 2, 3"
   ]
  },
  {
   "cell_type": "markdown",
   "metadata": {},
   "source": [
    "# Number of values to unpacked must be equal to numbers of variables"
   ]
  },
  {
   "cell_type": "code",
   "execution_count": 6,
   "metadata": {},
   "outputs": [
    {
     "ename": "ValueError",
     "evalue": "not enough values to unpack (expected 4, got 3)",
     "output_type": "error",
     "traceback": [
      "\u001b[0;31m---------------------------------------------------------------------------\u001b[0m",
      "\u001b[0;31mValueError\u001b[0m                                Traceback (most recent call last)",
      "Cell \u001b[0;32mIn[6], line 1\u001b[0m\n\u001b[0;32m----> 1\u001b[0m a, b, c, d \u001b[38;5;241m=\u001b[39m \u001b[38;5;241m10\u001b[39m, \u001b[38;5;241m2\u001b[39m, \u001b[38;5;241m3\u001b[39m\n",
      "\u001b[0;31mValueError\u001b[0m: not enough values to unpack (expected 4, got 3)"
     ]
    }
   ],
   "source": [
    "a, b, c, d = 10, 2, 3"
   ]
  },
  {
   "cell_type": "code",
   "execution_count": 9,
   "metadata": {},
   "outputs": [
    {
     "name": "stdout",
     "output_type": "stream",
     "text": [
      "a= 10\n",
      "b= [2, 3, 4, 64, 3, 4]\n"
     ]
    }
   ],
   "source": [
    "a, *b = 10, 2, 3, 4, 64, 3, 4\n",
    "print(\"a=\", a)\n",
    "print(\"b=\", b)"
   ]
  },
  {
   "cell_type": "code",
   "execution_count": 11,
   "metadata": {},
   "outputs": [
    {
     "name": "stdout",
     "output_type": "stream",
     "text": [
      "a= 10\n",
      "b= [2, 3, 4, 64, 3]\n",
      "c= 4\n"
     ]
    }
   ],
   "source": [
    "a, *b, c = 10, 2, 3, 4, 64, 3, 4\n",
    "print(\"a=\", a)\n",
    "print(\"b=\", b)\n",
    "print(\"c=\", c)"
   ]
  },
  {
   "cell_type": "code",
   "execution_count": 14,
   "metadata": {},
   "outputs": [
    {
     "name": "stdout",
     "output_type": "stream",
     "text": [
      "1 2 4 5 6 7 7 8 6 4 4 3 3 3 3 3 3 3 4 4 4\n"
     ]
    }
   ],
   "source": [
    "print(1,2,4,5,6,7,7,8,6,4,4,3,3,3,3,3,3,3,4,4,4)"
   ]
  },
  {
   "cell_type": "code",
   "execution_count": 17,
   "metadata": {},
   "outputs": [
    {
     "name": "stdout",
     "output_type": "stream",
     "text": [
      "parameters: () <class 'tuple'>\n"
     ]
    }
   ],
   "source": [
    "def func_with_params(*parameters):\n",
    "    print(\"parameters:\", parameters, type(parameters))\n",
    "\n",
    "\n",
    "func_with_params()"
   ]
  },
  {
   "cell_type": "code",
   "execution_count": 18,
   "metadata": {},
   "outputs": [
    {
     "name": "stdout",
     "output_type": "stream",
     "text": [
      "parameters: (2, 3) <class 'tuple'>\n"
     ]
    }
   ],
   "source": [
    "def func_with_params(*parameters):\n",
    "    print(\"parameters:\", parameters, type(parameters))\n",
    "\n",
    "\n",
    "func_with_params(2,3)"
   ]
  },
  {
   "cell_type": "code",
   "execution_count": 19,
   "metadata": {},
   "outputs": [
    {
     "name": "stdout",
     "output_type": "stream",
     "text": [
      "parameters: (2, 3, 5, 6, 5, 4, 43, 324, 4, 4, 43, 43, 43, 243, 4, 423, 4236, 464, 45, 54, 534, 5, 5, 534, 534, 534, 534) <class 'tuple'>\n"
     ]
    }
   ],
   "source": [
    "def func_with_params(*parameters):\n",
    "    print(\"parameters:\", parameters, type(parameters))\n",
    "\n",
    "\n",
    "func_with_params(2,3,5,6,5,4,43,324,4,4,43,43,43,243,4,423,4236,464,45,54,534,5,5,534,534,534,534)"
   ]
  },
  {
   "cell_type": "code",
   "execution_count": 24,
   "metadata": {},
   "outputs": [
    {
     "name": "stdout",
     "output_type": "stream",
     "text": [
      "first: 2 second: 3\n",
      "parameters: (5, 6, 5, 4, 43) <class 'tuple'>\n"
     ]
    }
   ],
   "source": [
    "def func_with_params(first, second, *parameters):\n",
    "    print(\"first:\", first, \"second:\", second)\n",
    "    print(\"parameters:\", parameters, type(parameters))\n",
    "\n",
    "\n",
    "func_with_params(2,3,5,6,5,4,43,)"
   ]
  },
  {
   "cell_type": "code",
   "execution_count": 27,
   "metadata": {},
   "outputs": [
    {
     "name": "stdout",
     "output_type": "stream",
     "text": [
      "first: 2 second: 3\n",
      "parameters: (5, 6, 5, 4, 43) <class 'tuple'>\n"
     ]
    }
   ],
   "source": [
    "def func_with_params(first, second, *parameters):\n",
    "    print(\"first:\", first, \"second:\", second)\n",
    "    print(\"parameters:\", parameters, type(parameters))\n",
    "\n",
    "\n",
    "func_with_params(2,3,5,6,5,4,43,)"
   ]
  },
  {
   "cell_type": "code",
   "execution_count": 31,
   "metadata": {},
   "outputs": [
    {
     "name": "stdout",
     "output_type": "stream",
     "text": [
      "anything: 1 polenta: 321\n",
      "parameters: () <class 'tuple'>\n"
     ]
    }
   ],
   "source": [
    "def func_with_params(anything, polenta, *parameters):\n",
    "    print(\"anything:\", anything, \"polenta:\", polenta)\n",
    "    print(\"parameters:\", parameters, type(parameters))\n",
    "\n",
    "\n",
    "func_with_params(1, 321)"
   ]
  },
  {
   "cell_type": "code",
   "execution_count": 32,
   "metadata": {},
   "outputs": [
    {
     "name": "stdout",
     "output_type": "stream",
     "text": [
      "first: 1 second: 2\n",
      "args: (32, 4) <class 'tuple'>\n",
      "kargs: {} <class 'dict'>\n"
     ]
    }
   ],
   "source": [
    "def func_with_params(first, second, *args, **kargs):\n",
    "    print(\"first:\", first, \"second:\", second)\n",
    "    print(\"args:\", args, type(args))\n",
    "    print(\"kargs:\", kargs, type(kargs))\n",
    "\n",
    "\n",
    "func_with_params(1,2, 32, 4)\n"
   ]
  },
  {
   "cell_type": "code",
   "execution_count": 34,
   "metadata": {},
   "outputs": [
    {
     "name": "stdout",
     "output_type": "stream",
     "text": [
      "first: 1 second: 2\n",
      "args: (32, 4) <class 'tuple'>\n",
      "kargs: {'generic': 'hello', 'dubai': 30} <class 'dict'>\n",
      "hello\n"
     ]
    }
   ],
   "source": [
    "def func_with_params(first, second, *args, **kargs):\n",
    "    print(\"first:\", first, \"second:\", second)\n",
    "    print(\"args:\", args, type(args))\n",
    "    print(\"kargs:\", kargs, type(kargs))\n",
    "    print(kargs['generic'])\n",
    "\n",
    "\n",
    "func_with_params(1,2, 32, 4, generic=\"hello\", dubai=30)"
   ]
  },
  {
   "cell_type": "code",
   "execution_count": null,
   "metadata": {},
   "outputs": [],
   "source": [
    "def func_with_params(first, second, *args, **kargs):\n",
    "    print(\"first:\", first, \"second:\", second)\n",
    "    print(\"args:\", args, type(args))\n",
    "    print(\"kargs:\", kargs, type(kargs))\n",
    "    print(kargs['generic'])\n",
    "\n",
    "\n",
    "func_with_params(1,2, 32, 4, generic=\"hello\", dubai=30)"
   ]
  }
 ],
 "metadata": {
  "kernelspec": {
   "display_name": "Python 3",
   "language": "python",
   "name": "python3"
  },
  "language_info": {
   "codemirror_mode": {
    "name": "ipython",
    "version": 3
   },
   "file_extension": ".py",
   "mimetype": "text/x-python",
   "name": "python",
   "nbconvert_exporter": "python",
   "pygments_lexer": "ipython3",
   "version": "3.12.0"
  }
 },
 "nbformat": 4,
 "nbformat_minor": 2
}

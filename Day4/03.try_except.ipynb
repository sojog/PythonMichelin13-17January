{
 "cells": [
  {
   "cell_type": "code",
   "execution_count": 2,
   "metadata": {},
   "outputs": [
    {
     "name": "stdout",
     "output_type": "stream",
     "text": [
      "The error occured\n"
     ]
    }
   ],
   "source": [
    "div = 0\n",
    "\n",
    "try:\n",
    "    10 / div\n",
    "    print(\"The program should continue\")\n",
    "except:\n",
    "    print(\"The error occured\")"
   ]
  },
  {
   "cell_type": "code",
   "execution_count": 3,
   "metadata": {},
   "outputs": [
    {
     "name": "stdout",
     "output_type": "stream",
     "text": [
      "The program should continue\n"
     ]
    }
   ],
   "source": [
    "div = 2\n",
    "\n",
    "try:\n",
    "    10 / div\n",
    "    print(\"The program should continue\")\n",
    "except:\n",
    "    print(\"The error occured\")"
   ]
  },
  {
   "cell_type": "code",
   "execution_count": 4,
   "metadata": {},
   "outputs": [
    {
     "name": "stdout",
     "output_type": "stream",
     "text": [
      "The program should continue\n"
     ]
    }
   ],
   "source": [
    "div = 2\n",
    "\n",
    "try:\n",
    "    10 / div\n",
    "    print(\"The program should continue\")\n",
    "except ZeroDivisionError:\n",
    "    print(\"The error occured\")"
   ]
  },
  {
   "cell_type": "code",
   "execution_count": 8,
   "metadata": {},
   "outputs": [
    {
     "name": "stdout",
     "output_type": "stream",
     "text": [
      "The error ValueError occured\n"
     ]
    }
   ],
   "source": [
    "div = \"23jhj\"\n",
    "\n",
    "try:\n",
    "    int(div)\n",
    "    print(\"The program should continue\")\n",
    "except ZeroDivisionError:\n",
    "    print(\"The error ZeroDivisionError occured\")\n",
    "except ValueError:\n",
    "    print(\"The error ValueError occured\")"
   ]
  },
  {
   "cell_type": "code",
   "execution_count": 12,
   "metadata": {},
   "outputs": [
    {
     "name": "stdout",
     "output_type": "stream",
     "text": [
      "General exception\n"
     ]
    }
   ],
   "source": [
    "div = \"23jhj\"\n",
    "\n",
    "try:\n",
    "    div + 30\n",
    "    print(\"The program should continue\")\n",
    "except ZeroDivisionError:\n",
    "    print(\"The error ZeroDivisionError occured\")\n",
    "except ValueError:\n",
    "    print(\"The error ValueError occured\")\n",
    "except:\n",
    "    print(\"General exception\")"
   ]
  },
  {
   "cell_type": "code",
   "execution_count": 13,
   "metadata": {},
   "outputs": [
    {
     "name": "stdout",
     "output_type": "stream",
     "text": [
      "General exception\n",
      "This line is executed regardless of error occurances\n"
     ]
    }
   ],
   "source": [
    "div = \"23jhj\"\n",
    "\n",
    "try:\n",
    "    div + 30\n",
    "    print(\"The program should continue\")\n",
    "except ZeroDivisionError:\n",
    "    print(\"The error ZeroDivisionError occured\")\n",
    "except ValueError:\n",
    "    print(\"The error ValueError occured\")\n",
    "except:\n",
    "    print(\"General exception\")\n",
    "finally:\n",
    "    print(\"This line is executed regardless of error occurances\")"
   ]
  },
  {
   "cell_type": "code",
   "execution_count": 14,
   "metadata": {},
   "outputs": [
    {
     "name": "stdout",
     "output_type": "stream",
     "text": [
      "The program should continue\n",
      "This line is executed regardless of error occurances\n"
     ]
    }
   ],
   "source": [
    "div = 100\n",
    "\n",
    "try:\n",
    "    div + 30\n",
    "    print(\"The program should continue\")\n",
    "except ZeroDivisionError:\n",
    "    print(\"The error ZeroDivisionError occured\")\n",
    "except ValueError:\n",
    "    print(\"The error ValueError occured\")\n",
    "except:\n",
    "    print(\"General exception\")\n",
    "finally:\n",
    "    print(\"This line is executed regardless of error occurances\")"
   ]
  },
  {
   "cell_type": "code",
   "execution_count": null,
   "metadata": {},
   "outputs": [],
   "source": []
  }
 ],
 "metadata": {
  "kernelspec": {
   "display_name": "Python 3",
   "language": "python",
   "name": "python3"
  },
  "language_info": {
   "codemirror_mode": {
    "name": "ipython",
    "version": 3
   },
   "file_extension": ".py",
   "mimetype": "text/x-python",
   "name": "python",
   "nbconvert_exporter": "python",
   "pygments_lexer": "ipython3",
   "version": "3.12.0"
  }
 },
 "nbformat": 4,
 "nbformat_minor": 2
}
